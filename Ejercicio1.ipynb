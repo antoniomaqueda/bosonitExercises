{
 "cells": [
  {
   "cell_type": "code",
   "execution_count": null,
   "id": "c929fd88-864a-4323-8199-8e47cf3ddf0c",
   "metadata": {},
   "outputs": [],
   "source": [
    "'''\n",
    "En este ejercicio se usarán Kafka, Spark, CSV y Avro\n",
    "\n",
    "- Queremos serializar un CSV con Avro usando spark, y enviarlo a un topic de Kafka\n",
    "\n",
    "- Posteriormente al revés, consumimos de un topic de Kafka un mensaje serializado en Avro, y con Spark lo deserializamos y leemos\n",
    "\n",
    "El CSV es:\n",
    "\n",
    "nombre;apellido;sexo;edad;peso;altura\n",
    "Pedro;Pérez;m;30;60;1.70\n",
    "María;Díaz;F;35;55;1.65\n",
    "Marcos;Rojo;M;20;62;1.80\n",
    "Carolina;Martínez;f;21;59;1.71\n",
    "\n",
    "'''"
   ]
  },
  {
   "cell_type": "code",
   "execution_count": 1,
   "id": "aa4e9ccb-fd25-4bed-b3d8-bc0b3a5f799b",
   "metadata": {},
   "outputs": [],
   "source": [
    "from pyspark.sql import SparkSession, Row\n",
    "from pyspark.sql.functions import col, expr\n",
    "from pyspark.sql.avro.functions import from_avro, to_avro\n",
    "import findspark\n",
    "import pandas as pd\n",
    "from deltalake.writer import write_deltalake\n",
    "\n",
    "# Inicializar findspark\n",
    "findspark.init()"
   ]
  },
  {
   "cell_type": "code",
   "execution_count": 2,
   "id": "641257d4-8010-499a-990d-17756369fd96",
   "metadata": {},
   "outputs": [
    {
     "name": "stderr",
     "output_type": "stream",
     "text": [
      "24/07/16 13:51:40 WARN Utils: Your hostname, bosonituser-VirtualBox resolves to a loopback address: 127.0.1.1; using 10.0.2.15 instead (on interface enp0s3)\n",
      "24/07/16 13:51:40 WARN Utils: Set SPARK_LOCAL_IP if you need to bind to another address\n"
     ]
    },
    {
     "name": "stdout",
     "output_type": "stream",
     "text": [
      ":: loading settings :: url = jar:file:/home/bosonituser/spark-3.5.1-bin-hadoop3-scala2.13/jars/ivy-2.5.1.jar!/org/apache/ivy/core/settings/ivysettings.xml\n"
     ]
    },
    {
     "name": "stderr",
     "output_type": "stream",
     "text": [
      "Ivy Default Cache set to: /home/bosonituser/.ivy2/cache\n",
      "The jars for the packages stored in: /home/bosonituser/.ivy2/jars\n",
      "org.apache.spark#spark-sql-kafka-0-10_2.13 added as a dependency\n",
      "org.apache.spark#spark-avro_2.13 added as a dependency\n",
      ":: resolving dependencies :: org.apache.spark#spark-submit-parent-6cbef32d-68d0-4ab3-ba90-3cc5628fb060;1.0\n",
      "\tconfs: [default]\n",
      "\tfound org.apache.spark#spark-sql-kafka-0-10_2.13;3.5.1 in central\n",
      "\tfound org.apache.spark#spark-token-provider-kafka-0-10_2.13;3.5.1 in central\n",
      "\tfound org.apache.kafka#kafka-clients;3.4.1 in central\n",
      "\tfound org.lz4#lz4-java;1.8.0 in central\n",
      "\tfound org.xerial.snappy#snappy-java;1.1.10.3 in central\n",
      "\tfound org.slf4j#slf4j-api;2.0.7 in central\n",
      "\tfound org.apache.hadoop#hadoop-client-runtime;3.3.4 in central\n",
      "\tfound org.apache.hadoop#hadoop-client-api;3.3.4 in central\n",
      "\tfound commons-logging#commons-logging;1.1.3 in central\n",
      "\tfound com.google.code.findbugs#jsr305;3.0.0 in central\n",
      "\tfound org.scala-lang.modules#scala-parallel-collections_2.13;1.0.4 in central\n",
      "\tfound org.apache.commons#commons-pool2;2.11.1 in central\n",
      "\tfound org.apache.spark#spark-avro_2.13;3.5.1 in central\n",
      "\tfound org.tukaani#xz;1.9 in central\n",
      ":: resolution report :: resolve 834ms :: artifacts dl 17ms\n",
      "\t:: modules in use:\n",
      "\tcom.google.code.findbugs#jsr305;3.0.0 from central in [default]\n",
      "\tcommons-logging#commons-logging;1.1.3 from central in [default]\n",
      "\torg.apache.commons#commons-pool2;2.11.1 from central in [default]\n",
      "\torg.apache.hadoop#hadoop-client-api;3.3.4 from central in [default]\n",
      "\torg.apache.hadoop#hadoop-client-runtime;3.3.4 from central in [default]\n",
      "\torg.apache.kafka#kafka-clients;3.4.1 from central in [default]\n",
      "\torg.apache.spark#spark-avro_2.13;3.5.1 from central in [default]\n",
      "\torg.apache.spark#spark-sql-kafka-0-10_2.13;3.5.1 from central in [default]\n",
      "\torg.apache.spark#spark-token-provider-kafka-0-10_2.13;3.5.1 from central in [default]\n",
      "\torg.lz4#lz4-java;1.8.0 from central in [default]\n",
      "\torg.scala-lang.modules#scala-parallel-collections_2.13;1.0.4 from central in [default]\n",
      "\torg.slf4j#slf4j-api;2.0.7 from central in [default]\n",
      "\torg.tukaani#xz;1.9 from central in [default]\n",
      "\torg.xerial.snappy#snappy-java;1.1.10.3 from central in [default]\n",
      "\t---------------------------------------------------------------------\n",
      "\t|                  |            modules            ||   artifacts   |\n",
      "\t|       conf       | number| search|dwnlded|evicted|| number|dwnlded|\n",
      "\t---------------------------------------------------------------------\n",
      "\t|      default     |   14  |   0   |   0   |   0   ||   14  |   0   |\n",
      "\t---------------------------------------------------------------------\n",
      ":: retrieving :: org.apache.spark#spark-submit-parent-6cbef32d-68d0-4ab3-ba90-3cc5628fb060\n",
      "\tconfs: [default]\n",
      "\t0 artifacts copied, 14 already retrieved (0kB/7ms)\n",
      "24/07/16 13:51:41 WARN NativeCodeLoader: Unable to load native-hadoop library for your platform... using builtin-java classes where applicable\n",
      "Setting default log level to \"WARN\".\n",
      "To adjust logging level use sc.setLogLevel(newLevel). For SparkR, use setLogLevel(newLevel).\n"
     ]
    }
   ],
   "source": [
    "# Crear la sesión de Spark\n",
    "# Necesitaremos incluir las dependencias de AVRO y Kafka en spark.jars.packages\n",
    "spark = SparkSession.builder \\\n",
    "    .appName(\"ReadingAvroFromKafka\") \\\n",
    "    .config(\"spark.jars.packages\", \"org.apache.spark:spark-sql-kafka-0-10_2.13:3.5.1,org.apache.spark:spark-avro_2.13:3.5.1\") \\\n",
    "    .getOrCreate()"
   ]
  },
  {
   "cell_type": "code",
   "execution_count": 4,
   "id": "74fe889a-daf2-4721-8583-c3d9e1d146af",
   "metadata": {},
   "outputs": [
    {
     "name": "stdout",
     "output_type": "stream",
     "text": [
      "+--------+--------+----+----+----+------+\n",
      "|  nombre|apellido|sexo|edad|peso|altura|\n",
      "+--------+--------+----+----+----+------+\n",
      "|   Pedro|   Pérez|   m|  30|  60|   1.7|\n",
      "|   María|    Díaz|   F|  35|  55|  1.65|\n",
      "|  Marcos|    Rojo|   M|  20|  62|   1.8|\n",
      "|Carolina|Martínez|   f|  21|  59|  1.71|\n",
      "+--------+--------+----+----+----+------+\n",
      "\n"
     ]
    }
   ],
   "source": [
    "from pyspark.sql.types import StructType, StructField, StringType, IntegerType, FloatType\n",
    "from pyspark.sql.functions import col, struct\n",
    "\n",
    "# Definir el esquema del CSV\n",
    "csv_schema = StructType([\n",
    "    StructField(\"nombre\", StringType(), True),\n",
    "    StructField(\"apellido\", StringType(), True),\n",
    "    StructField(\"sexo\", StringType(), True),\n",
    "    StructField(\"edad\", IntegerType(), True),\n",
    "    StructField(\"peso\", IntegerType(), True),\n",
    "    StructField(\"altura\", FloatType(), True)\n",
    "])\n",
    "\n",
    "# Leer el CSV en un DataFrame\n",
    "df = spark.read.csv(\"/home/bosonituser/Desktop/CSVFiles/mydoc.csv\", header=True, schema=csv_schema, sep=\";\")\n",
    "\n",
    "# Lo mostramos para comprobar que se ha realizado correctamente\n",
    "df.show()"
   ]
  },
  {
   "cell_type": "code",
   "execution_count": 5,
   "id": "2e4194e7-2af8-4d35-ad22-d5f4f33b1479",
   "metadata": {},
   "outputs": [
    {
     "name": "stdout",
     "output_type": "stream",
     "text": [
      "+----------------------------------------------------------------------------------------------------+\n",
      "|value                                                                                               |\n",
      "+----------------------------------------------------------------------------------------------------+\n",
      "|[02 0A 50 65 64 72 6F 02 0C 50 C3 A9 72 65 7A 02 02 6D 02 3C 02 78 02 9A 99 D9 3F]                  |\n",
      "|[02 0C 4D 61 72 C3 AD 61 02 0A 44 C3 AD 61 7A 02 02 46 02 46 02 6E 02 33 33 D3 3F]                  |\n",
      "|[02 0C 4D 61 72 63 6F 73 02 08 52 6F 6A 6F 02 02 4D 02 28 02 7C 02 66 66 E6 3F]                     |\n",
      "|[02 10 43 61 72 6F 6C 69 6E 61 02 12 4D 61 72 74 C3 AD 6E 65 7A 02 02 66 02 2A 02 76 02 48 E1 DA 3F]|\n",
      "+----------------------------------------------------------------------------------------------------+\n",
      "\n"
     ]
    }
   ],
   "source": [
    "# Definir el esquema Avro en formato JSON\n",
    "avro_schema = '''\n",
    "{\n",
    "  \"type\": \"record\",\n",
    "  \"name\": \"Person\",\n",
    "  \"fields\": [\n",
    "    {\"name\": \"nombre\", \"type\": [\"null\", \"string\"], \"default\": null},\n",
    "    {\"name\": \"apellido\", \"type\": [\"null\", \"string\"], \"default\": null},\n",
    "    {\"name\": \"sexo\", \"type\": [\"null\", \"string\"], \"default\": null},\n",
    "    {\"name\": \"edad\", \"type\": [\"null\", \"int\"], \"default\": null},\n",
    "    {\"name\": \"peso\", \"type\": [\"null\", \"int\"], \"default\": null},\n",
    "    {\"name\": \"altura\", \"type\": [\"null\", \"float\"], \"default\": null}\n",
    "  ]\n",
    "}\n",
    "'''\n",
    "\n",
    "# Serializar DataFrame a formato Avro (to_avro)\n",
    "df_avro = df.select(to_avro(struct(\"nombre\", \"apellido\", \"sexo\", \"edad\", \"peso\", \"altura\"), avro_schema).alias(\"value\"))\n",
    "\n",
    "# Mostrar el DataFrame en formato Avro\n",
    "df_avro.show(truncate=False)"
   ]
  },
  {
   "cell_type": "code",
   "execution_count": 6,
   "id": "ce666db3-e141-41b5-a250-1a81cbd1e1f7",
   "metadata": {},
   "outputs": [
    {
     "name": "stdout",
     "output_type": "stream",
     "text": [
      "+--------+--------+----+----+----+------+\n",
      "|nombre  |apellido|sexo|edad|peso|altura|\n",
      "+--------+--------+----+----+----+------+\n",
      "|Pedro   |Pérez   |m   |30  |60  |1.7   |\n",
      "|María   |Díaz    |F   |35  |55  |1.65  |\n",
      "|Marcos  |Rojo    |M   |20  |62  |1.8   |\n",
      "|Carolina|Martínez|f   |21  |59  |1.71  |\n",
      "+--------+--------+----+----+----+------+\n",
      "\n"
     ]
    }
   ],
   "source": [
    "# Deserializar de formato Avro el DataFrame (from_avro)\n",
    "df_back = df_avro.select(from_avro(col(\"value\"), avro_schema).alias(\"person\"))\n",
    "\n",
    "# Comporbar que se ha realizado correctamente la conversión\n",
    "df_back.select(\"person.*\").show(truncate=False)"
   ]
  },
  {
   "cell_type": "code",
   "execution_count": 7,
   "id": "f4899447-db27-4e8f-88e4-56469b7226ff",
   "metadata": {},
   "outputs": [
    {
     "name": "stderr",
     "output_type": "stream",
     "text": [
      "                                                                                \r"
     ]
    }
   ],
   "source": [
    "# Ahora lo mandamos a Kafka, al topic \"my_topic2\"\n",
    "df_avro.write.format(\"kafka\") \\\n",
    "    .option(\"kafka.bootstrap.servers\", \"localhost:9092\") \\\n",
    "    .option(\"topic\", \"ej1\") \\\n",
    "    .save()"
   ]
  },
  {
   "cell_type": "code",
   "execution_count": 16,
   "id": "45ac1fcf-b391-4020-86f8-6751a3bd9032",
   "metadata": {},
   "outputs": [
    {
     "data": {
      "text/plain": [
       "'\\nbin/kafka-console-consumer.sh --bootstrap-server 127.0.0.1:9092 --topic my_topic2 --from-beginning\\n\\nPedro\\n     Pérezm<x���?\\n\\nMaría\\nDíazFFn33�?\\n\\nMarcoRojoM(|ff�?\\nCarolinaMartínezf*vH��?\\n'"
      ]
     },
     "execution_count": 16,
     "metadata": {},
     "output_type": "execute_result"
    }
   ],
   "source": [
    "# Comprobamos lo que llega en la terminal del ordenador\n",
    "\n",
    "'''\n",
    "bin/kafka-console-consumer.sh --bootstrap-server 127.0.0.1:9092 --topic ej1 --from-beginning\n",
    "\n",
    "Pedro\n",
    "     Pérezm<x���?\n",
    "\n",
    "María\n",
    "DíazFFn33�?\n",
    "\n",
    "MarcoRojoM(|ff�?\n",
    "CarolinaMartínezf*vH��?\n",
    "\n",
    "'''"
   ]
  },
  {
   "cell_type": "code",
   "execution_count": 8,
   "id": "76ce6128-d6c4-4318-8d95-5602f1404346",
   "metadata": {
    "scrolled": true
   },
   "outputs": [
    {
     "name": "stderr",
     "output_type": "stream",
     "text": [
      "24/07/16 13:58:31 WARN AdminClientConfig: These configurations '[key.deserializer, value.deserializer, enable.auto.commit, max.poll.records, auto.offset.reset]' were supplied but are not used yet.\n",
      "[Stage 4:>                                                          (0 + 1) / 1]\r"
     ]
    },
    {
     "name": "stdout",
     "output_type": "stream",
     "text": [
      "+----+----------------------------------------------------------------------------------------------------+-----+---------+------+-----------------------+-------------+\n",
      "|key |value                                                                                               |topic|partition|offset|timestamp              |timestampType|\n",
      "+----+----------------------------------------------------------------------------------------------------+-----+---------+------+-----------------------+-------------+\n",
      "|NULL|[02 0A 50 65 64 72 6F 02 0C 50 C3 A9 72 65 7A 02 02 6D 02 3C 02 78 02 9A 99 D9 3F]                  |ej1  |0        |0     |2024-07-16 13:57:23.788|0            |\n",
      "|NULL|[02 0C 4D 61 72 C3 AD 61 02 0A 44 C3 AD 61 7A 02 02 46 02 46 02 6E 02 33 33 D3 3F]                  |ej1  |0        |1     |2024-07-16 13:57:23.82 |0            |\n",
      "|NULL|[02 0C 4D 61 72 63 6F 73 02 08 52 6F 6A 6F 02 02 4D 02 28 02 7C 02 66 66 E6 3F]                     |ej1  |0        |2     |2024-07-16 13:57:23.821|0            |\n",
      "|NULL|[02 10 43 61 72 6F 6C 69 6E 61 02 12 4D 61 72 74 C3 AD 6E 65 7A 02 02 66 02 2A 02 76 02 48 E1 DA 3F]|ej1  |0        |3     |2024-07-16 13:57:23.821|0            |\n",
      "+----+----------------------------------------------------------------------------------------------------+-----+---------+------+-----------------------+-------------+\n",
      "\n"
     ]
    },
    {
     "name": "stderr",
     "output_type": "stream",
     "text": [
      "                                                                                \r"
     ]
    }
   ],
   "source": [
    "# Ahora leemos de kafka a un DataFrame, que estará serializado en Avro\n",
    "\n",
    "df_kafka = spark.read.format(\"kafka\") \\\n",
    "    .option(\"kafka.bootstrap.servers\", \"localhost:9092\") \\\n",
    "    .option(\"subscribe\", \"ej1\") \\\n",
    "    .load()\n",
    "\n",
    "df_kafka.show(truncate=False)"
   ]
  },
  {
   "cell_type": "code",
   "execution_count": 9,
   "id": "c787f635-f97f-4e41-a65c-95921c7d8a83",
   "metadata": {},
   "outputs": [
    {
     "name": "stderr",
     "output_type": "stream",
     "text": [
      "24/07/16 14:00:17 WARN AdminClientConfig: These configurations '[key.deserializer, value.deserializer, enable.auto.commit, max.poll.records, auto.offset.reset]' were supplied but are not used yet.\n"
     ]
    },
    {
     "name": "stdout",
     "output_type": "stream",
     "text": [
      "+--------+--------+----+----+----+------+\n",
      "|nombre  |apellido|sexo|edad|peso|altura|\n",
      "+--------+--------+----+----+----+------+\n",
      "|Pedro   |Pérez   |m   |30  |60  |1.7   |\n",
      "|María   |Díaz    |F   |35  |55  |1.65  |\n",
      "|Marcos  |Rojo    |M   |20  |62  |1.8   |\n",
      "|Carolina|Martínez|f   |21  |59  |1.71  |\n",
      "+--------+--------+----+----+----+------+\n",
      "\n"
     ]
    },
    {
     "name": "stderr",
     "output_type": "stream",
     "text": [
      "                                                                                \r"
     ]
    }
   ],
   "source": [
    "# Y ahora deserializamos de AVRO el dataFrame que nos ha llegado para poder ver los datos\n",
    "avro_schema = '''\n",
    "{\n",
    "  \"type\": \"record\",\n",
    "  \"name\": \"Person\",\n",
    "  \"fields\": [\n",
    "    {\"name\": \"nombre\", \"type\": [\"null\", \"string\"], \"default\": null},\n",
    "    {\"name\": \"apellido\", \"type\": [\"null\", \"string\"], \"default\": null},\n",
    "    {\"name\": \"sexo\", \"type\": [\"null\", \"string\"], \"default\": null},\n",
    "    {\"name\": \"edad\", \"type\": [\"null\", \"int\"], \"default\": null},\n",
    "    {\"name\": \"peso\", \"type\": [\"null\", \"int\"], \"default\": null},\n",
    "    {\"name\": \"altura\", \"type\": [\"null\", \"float\"], \"default\": null}\n",
    "  ]\n",
    "}\n",
    "'''\n",
    "\n",
    "# Deserializar los datos Avro leídos de Kafka, en ete caso la columna value, que es donde está el contenido de los registros (ver df_kafka)\n",
    "df_avro_deserialized = df_kafka.select(from_avro(col(\"value\"), avro_schema).alias(\"person\"))\n",
    "\n",
    "# Seleccionar y mostrar los campos deserializados\n",
    "df_person = df_avro_deserialized.select(\"person.*\")\n",
    "df_person.show(truncate=False)"
   ]
  },
  {
   "cell_type": "code",
   "execution_count": null,
   "id": "294c3901-6423-44c9-9d5f-2d1d254a4ff9",
   "metadata": {},
   "outputs": [],
   "source": []
  }
 ],
 "metadata": {
  "kernelspec": {
   "display_name": "Python 3 (ipykernel)",
   "language": "python",
   "name": "python3"
  },
  "language_info": {
   "codemirror_mode": {
    "name": "ipython",
    "version": 3
   },
   "file_extension": ".py",
   "mimetype": "text/x-python",
   "name": "python",
   "nbconvert_exporter": "python",
   "pygments_lexer": "ipython3",
   "version": "3.10.12"
  }
 },
 "nbformat": 4,
 "nbformat_minor": 5
}
