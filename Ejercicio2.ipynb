{
 "cells": [
  {
   "cell_type": "code",
   "execution_count": null,
   "id": "e6ff23cc-05fe-4962-834b-e0689d452e57",
   "metadata": {},
   "outputs": [],
   "source": [
    "'''\n",
    "En este ejercicio se usarán Kafka, Spark, CSV y Avro\n",
    "\n",
    "- Queremos serializar un CSV con Avro y enviarlo a un topic de Kafka, todo ello con NIFI\n",
    "\n",
    "- Posteriormente consumimos de ese topic de Kafka el CSV serializado en Avro, y con Spark lo deserializamos y leemos\n",
    "\n",
    "El CSV es:\n",
    "\n",
    "nombre;apellido;sexo;edad;peso;altura\n",
    "Pedro;Pérez;m;30;60;1.70\n",
    "María;Díaz;F;35;55;1.65\n",
    "Marcos;Rojo;M;20;62;1.80\n",
    "Carolina;Martínez;f;21;59;1.71\n",
    "\n",
    "'''"
   ]
  },
  {
   "cell_type": "code",
   "execution_count": 1,
   "id": "aa4e9ccb-fd25-4bed-b3d8-bc0b3a5f799b",
   "metadata": {},
   "outputs": [],
   "source": [
    "from pyspark.sql import SparkSession\n",
    "from pyspark.sql.functions import col, expr\n",
    "from pyspark.sql.avro.functions import from_avro\n",
    "import findspark\n",
    "import pandas as pd\n",
    "from deltalake.writer import write_deltalake\n",
    "\n",
    "# Inicializar findspark\n",
    "findspark.init()"
   ]
  },
  {
   "cell_type": "code",
   "execution_count": 2,
   "id": "641257d4-8010-499a-990d-17756369fd96",
   "metadata": {},
   "outputs": [
    {
     "name": "stderr",
     "output_type": "stream",
     "text": [
      "24/07/16 10:14:41 WARN Utils: Your hostname, bosonituser-VirtualBox resolves to a loopback address: 127.0.1.1; using 10.0.2.15 instead (on interface enp0s3)\n",
      "24/07/16 10:14:41 WARN Utils: Set SPARK_LOCAL_IP if you need to bind to another address\n"
     ]
    },
    {
     "name": "stdout",
     "output_type": "stream",
     "text": [
      ":: loading settings :: url = jar:file:/home/bosonituser/spark-3.5.1-bin-hadoop3-scala2.13/jars/ivy-2.5.1.jar!/org/apache/ivy/core/settings/ivysettings.xml\n"
     ]
    },
    {
     "name": "stderr",
     "output_type": "stream",
     "text": [
      "Ivy Default Cache set to: /home/bosonituser/.ivy2/cache\n",
      "The jars for the packages stored in: /home/bosonituser/.ivy2/jars\n",
      "org.apache.spark#spark-sql-kafka-0-10_2.13 added as a dependency\n",
      "org.apache.spark#spark-avro_2.13 added as a dependency\n",
      ":: resolving dependencies :: org.apache.spark#spark-submit-parent-61a665cd-8484-470f-b0b5-a00531faf8b7;1.0\n",
      "\tconfs: [default]\n",
      "\tfound org.apache.spark#spark-sql-kafka-0-10_2.13;3.5.1 in central\n",
      "\tfound org.apache.spark#spark-token-provider-kafka-0-10_2.13;3.5.1 in central\n",
      "\tfound org.apache.kafka#kafka-clients;3.4.1 in central\n",
      "\tfound org.lz4#lz4-java;1.8.0 in central\n",
      "\tfound org.xerial.snappy#snappy-java;1.1.10.3 in central\n",
      "\tfound org.slf4j#slf4j-api;2.0.7 in central\n",
      "\tfound org.apache.hadoop#hadoop-client-runtime;3.3.4 in central\n",
      "\tfound org.apache.hadoop#hadoop-client-api;3.3.4 in central\n",
      "\tfound commons-logging#commons-logging;1.1.3 in central\n",
      "\tfound com.google.code.findbugs#jsr305;3.0.0 in central\n",
      "\tfound org.scala-lang.modules#scala-parallel-collections_2.13;1.0.4 in central\n",
      "\tfound org.apache.commons#commons-pool2;2.11.1 in central\n",
      "\tfound org.apache.spark#spark-avro_2.13;3.5.1 in central\n",
      "\tfound org.tukaani#xz;1.9 in central\n",
      ":: resolution report :: resolve 916ms :: artifacts dl 29ms\n",
      "\t:: modules in use:\n",
      "\tcom.google.code.findbugs#jsr305;3.0.0 from central in [default]\n",
      "\tcommons-logging#commons-logging;1.1.3 from central in [default]\n",
      "\torg.apache.commons#commons-pool2;2.11.1 from central in [default]\n",
      "\torg.apache.hadoop#hadoop-client-api;3.3.4 from central in [default]\n",
      "\torg.apache.hadoop#hadoop-client-runtime;3.3.4 from central in [default]\n",
      "\torg.apache.kafka#kafka-clients;3.4.1 from central in [default]\n",
      "\torg.apache.spark#spark-avro_2.13;3.5.1 from central in [default]\n",
      "\torg.apache.spark#spark-sql-kafka-0-10_2.13;3.5.1 from central in [default]\n",
      "\torg.apache.spark#spark-token-provider-kafka-0-10_2.13;3.5.1 from central in [default]\n",
      "\torg.lz4#lz4-java;1.8.0 from central in [default]\n",
      "\torg.scala-lang.modules#scala-parallel-collections_2.13;1.0.4 from central in [default]\n",
      "\torg.slf4j#slf4j-api;2.0.7 from central in [default]\n",
      "\torg.tukaani#xz;1.9 from central in [default]\n",
      "\torg.xerial.snappy#snappy-java;1.1.10.3 from central in [default]\n",
      "\t---------------------------------------------------------------------\n",
      "\t|                  |            modules            ||   artifacts   |\n",
      "\t|       conf       | number| search|dwnlded|evicted|| number|dwnlded|\n",
      "\t---------------------------------------------------------------------\n",
      "\t|      default     |   14  |   0   |   0   |   0   ||   14  |   0   |\n",
      "\t---------------------------------------------------------------------\n",
      ":: retrieving :: org.apache.spark#spark-submit-parent-61a665cd-8484-470f-b0b5-a00531faf8b7\n",
      "\tconfs: [default]\n",
      "\t0 artifacts copied, 14 already retrieved (0kB/18ms)\n",
      "24/07/16 10:14:42 WARN NativeCodeLoader: Unable to load native-hadoop library for your platform... using builtin-java classes where applicable\n",
      "Setting default log level to \"WARN\".\n",
      "To adjust logging level use sc.setLogLevel(newLevel). For SparkR, use setLogLevel(newLevel).\n"
     ]
    }
   ],
   "source": [
    "# Crear la sesión de Spark\n",
    "# Necesitaremos incluir las dependencias de AVRO y Kafka en spark.jars.packages\n",
    "spark = SparkSession.builder \\\n",
    "    .appName(\"ReadingAvroFromKafka\") \\\n",
    "    .config(\"spark.jars.packages\", \"org.apache.spark:spark-sql-kafka-0-10_2.13:3.5.1,org.apache.spark:spark-avro_2.13:3.5.1\") \\\n",
    "    .getOrCreate()"
   ]
  },
  {
   "cell_type": "code",
   "execution_count": 3,
   "id": "91db68f4-4c8e-4875-b786-9ad17e331a0c",
   "metadata": {
    "scrolled": true
   },
   "outputs": [
    {
     "name": "stderr",
     "output_type": "stream",
     "text": [
      "24/07/16 10:14:48 WARN AdminClientConfig: These configurations '[key.deserializer, value.deserializer, enable.auto.commit, max.poll.records, auto.offset.reset]' were supplied but are not used yet.\n",
      "[Stage 0:>                                                          (0 + 1) / 1]\r"
     ]
    },
    {
     "name": "stdout",
     "output_type": "stream",
     "text": [
      "+----+----------------------------------------------------------------------------------------------------+---------+---------+------+-----------------------+-------------+\n",
      "|key |value                                                                                               |topic    |partition|offset|timestamp              |timestampType|\n",
      "+----+----------------------------------------------------------------------------------------------------+---------+---------+------+-----------------------+-------------+\n",
      "|NULL|[02 0A 50 65 64 72 6F 02 0C 50 C3 A9 72 65 7A 02 02 6D 02 3C 02 78 02 9A 99 D9 3F]                  |csv_avro2|0        |0     |2024-07-16 10:14:14.864|0            |\n",
      "|NULL|[02 0C 4D 61 72 C3 AD 61 02 0A 44 C3 AD 61 7A 02 02 46 02 46 02 6E 02 33 33 D3 3F]                  |csv_avro2|0        |1     |2024-07-16 10:14:14.864|0            |\n",
      "|NULL|[02 0C 4D 61 72 63 6F 73 02 08 52 6F 6A 6F 02 02 4D 02 28 02 7C 02 66 66 E6 3F]                     |csv_avro2|0        |2     |2024-07-16 10:14:14.864|0            |\n",
      "|NULL|[02 10 43 61 72 6F 6C 69 6E 61 02 12 4D 61 72 74 C3 AD 6E 65 7A 02 02 66 02 2A 02 76 02 48 E1 DA 3F]|csv_avro2|0        |3     |2024-07-16 10:14:14.864|0            |\n",
      "+----+----------------------------------------------------------------------------------------------------+---------+---------+------+-----------------------+-------------+\n",
      "\n"
     ]
    },
    {
     "name": "stderr",
     "output_type": "stream",
     "text": [
      "                                                                                \r"
     ]
    }
   ],
   "source": [
    "# Tendremos en kafka preparado el csv serializado en Avro, ésto se habrá realizado previamente en NIFI\n",
    "# Leemos del topic que hemos especificado en el processor de NIFI\n",
    "\n",
    "df_kafka = spark.read.format(\"kafka\") \\\n",
    "    .option(\"kafka.bootstrap.servers\", \"localhost:9092\") \\\n",
    "    .option(\"subscribe\", \"csv_avro2\") \\\n",
    "    .load()\n",
    "\n",
    "df_kafka.show(truncate=False)"
   ]
  },
  {
   "cell_type": "code",
   "execution_count": 4,
   "id": "d227e2ec-f923-40ea-8b78-d7e1b78541fa",
   "metadata": {},
   "outputs": [
    {
     "name": "stderr",
     "output_type": "stream",
     "text": [
      "24/07/16 10:14:57 WARN AdminClientConfig: These configurations '[key.deserializer, value.deserializer, enable.auto.commit, max.poll.records, auto.offset.reset]' were supplied but are not used yet.\n"
     ]
    },
    {
     "name": "stdout",
     "output_type": "stream",
     "text": [
      "+--------+--------+----+----+----+------+\n",
      "|nombre  |apellido|sexo|edad|peso|altura|\n",
      "+--------+--------+----+----+----+------+\n",
      "|Pedro   |Pérez   |m   |30  |60  |1.7   |\n",
      "|María   |Díaz    |F   |35  |55  |1.65  |\n",
      "|Marcos  |Rojo    |M   |20  |62  |1.8   |\n",
      "|Carolina|Martínez|f   |21  |59  |1.71  |\n",
      "+--------+--------+----+----+----+------+\n",
      "\n"
     ]
    },
    {
     "name": "stderr",
     "output_type": "stream",
     "text": [
      "                                                                                \r"
     ]
    }
   ],
   "source": [
    "# Definir el esquema Avro en formato JSON\n",
    "\n",
    "avro_schema = '''\n",
    "{\n",
    "  \"type\": \"record\",\n",
    "  \"name\": \"nifiRecord\",\n",
    "  \"namespace\": \"org.apache.nifi\",\n",
    "  \"fields\": [\n",
    "    {\"name\": \"nombre\", \"type\": [\"null\", \"string\"], \"default\": null},\n",
    "    {\"name\": \"apellido\", \"type\": [\"null\", \"string\"], \"default\": null},\n",
    "    {\"name\": \"sexo\", \"type\": [\"null\", \"string\"], \"default\": null},\n",
    "    {\"name\": \"edad\", \"type\": [\"null\", \"int\"], \"default\": null},\n",
    "    {\"name\": \"peso\", \"type\": [\"null\", \"int\"], \"default\": null},\n",
    "    {\"name\": \"altura\", \"type\": [\"null\", \"float\"], \"default\": null}\n",
    "  ]\n",
    "}\n",
    "'''\n",
    "\n",
    "# Deserializar los datos Avro leídos de Kafka\n",
    "df_avro_deserialized = df_kafka.select(from_avro(col(\"value\"), avro_schema).alias(\"person\"))\n",
    "\n",
    "# Seleccionar y mostrar los campos deserializados\n",
    "df_person = df_avro_deserialized.select(\"person.*\")\n",
    "df_person.show(truncate=False)"
   ]
  },
  {
   "cell_type": "code",
   "execution_count": null,
   "id": "7dd4703b-ceaa-4cf6-adde-c5e9812f35fb",
   "metadata": {},
   "outputs": [],
   "source": []
  }
 ],
 "metadata": {
  "kernelspec": {
   "display_name": "Python 3 (ipykernel)",
   "language": "python",
   "name": "python3"
  },
  "language_info": {
   "codemirror_mode": {
    "name": "ipython",
    "version": 3
   },
   "file_extension": ".py",
   "mimetype": "text/x-python",
   "name": "python",
   "nbconvert_exporter": "python",
   "pygments_lexer": "ipython3",
   "version": "3.10.12"
  }
 },
 "nbformat": 4,
 "nbformat_minor": 5
}
